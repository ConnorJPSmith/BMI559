{
 "cells": [
  {
   "cell_type": "markdown",
   "metadata": {},
   "source": [
    "HW 2 - Connor Smith - Late"
   ]
  },
  {
   "cell_type": "markdown",
   "metadata": {},
   "source": [
    "First, we need to cleanup the input file. I am using the current build of the csv package to simplify import/export"
   ]
  },
  {
   "cell_type": "code",
   "execution_count": 30,
   "metadata": {
    "collapsed": false
   },
   "outputs": [
    {
     "name": "stdout",
     "output_type": "stream",
     "text": [
      "CSV Version: 1.0\n",
      "Python/Anaconda Info: 3.5.2 |Anaconda 4.2.0 (64-bit)| (default, Jul  5 2016, 11:41:13) [MSC v.1900 64 bit (AMD64)]\n"
     ]
    }
   ],
   "source": [
    "import csv\n",
    "print(\"CSV Version: \"+csv.__version__)\n",
    "import sys\n",
    "print(\"Python/Anaconda Info: \"+sys.version)"
   ]
  },
  {
   "cell_type": "code",
   "execution_count": 25,
   "metadata": {
    "collapsed": false
   },
   "outputs": [
    {
     "name": "stdout",
     "output_type": "stream",
     "text": [
      "CSV Version: 1.0\n",
      "File conversion complete\n"
     ]
    }
   ],
   "source": [
    "# Set up corrected file\n",
    "\n",
    "# import file\n",
    "with open(\"var_list.txt\") as in_file:\n",
    "    file_data = csv.reader(in_file,delimiter='\\t')\n",
    "    # remove empty lists\n",
    "    file_cleaned = [line for line in file_data if line != []]\n",
    "    # save to new file with modifications\n",
    "    with open(\"var_list_annovar.avinput\",\"w\", newline = '') as out_file:\n",
    "        out_writer = csv.writer(out_file,delimiter=\"\\t\")\n",
    "        for line in file_cleaned:\n",
    "            # only return chromosome number\n",
    "            chrom = line[0][3:]\n",
    "            # start location\n",
    "            start = line[1]\n",
    "            # reference allele\n",
    "            ref = line[2]\n",
    "            # alternate allele\n",
    "            alt = line[3]\n",
    "            # start location + length of reference to get end, required by wANNOVAR\n",
    "            end = int(start) + len(ref) - 1\n",
    "            out_writer.writerow([chrom,start,end,ref,alt])\n",
    "        print(\"File conversion complete\")"
   ]
  },
  {
   "cell_type": "markdown",
   "metadata": {},
   "source": [
    "Next, I ran this file through the wANNOVAR program because I have not used PERL an am not sure how. My online submission number was 131582. I downloaded the results, not I want to import them with the annovar format."
   ]
  },
  {
   "cell_type": "code",
   "execution_count": 33,
   "metadata": {
    "collapsed": false
   },
   "outputs": [
    {
     "name": "stdout",
     "output_type": "stream",
     "text": [
      "Pandas Verion: 0.18.1\n",
      "Annotated results saved as results_annotated_hw2.txt\n"
     ]
    }
   ],
   "source": [
    "import pandas\n",
    "print(\"Pandas Verion: \"+pandas.__version__)\n",
    "\n",
    "# import results file\n",
    "with open(\"query.output.genome_summary.txt\") as in_results:\n",
    "    results_data = pandas.read_csv(in_results,delimiter=\"\\t\")\n",
    "    results_filtered = results_data[['Chr',\n",
    "                                    'Start',\n",
    "                                    'End',\n",
    "                                    'Ref',\n",
    "                                    'Alt',\n",
    "                                    'Func.refgene',\n",
    "                                    'Gene.refgene',\n",
    "                                    'ExonicFunc.refgene',\n",
    "                                    '1000G_ALL',\n",
    "                                    '1000G_AFR',\n",
    "                                    '1000G_AMR',\n",
    "                                    '1000G_EAS',\n",
    "                                    '1000G_EUR',\n",
    "                                    '1000G_SAS',\n",
    "                                    'ExAC_Freq',\n",
    "                                    'ExAC_AFR',\n",
    "                                    'ExAC_AMR',\n",
    "                                    'ExAC_EAS',\n",
    "                                    'ExAC_FIN',\n",
    "                                    'ExAC_NFE',\n",
    "                                    'ExAC_OTH',\n",
    "                                    'ExAC_SAS',\n",
    "                                    'ESP6500si_ALL',\n",
    "                                    'ESP6500si_AA',\n",
    "                                    'ESP6500si_EA',\n",
    "                                    'CG46',\n",
    "                                    'NCI60',\n",
    "                                    'dbSNP',\n",
    "                                    'COSMIC_DIS']]\n",
    "    with open(\"results_annotated_hw2.txt\",\"w\") as result_out:\n",
    "        results_filtered.to_csv(result_out,sep=\"\\t\")\n",
    "        print(\"Annotated results saved as results_annotated_hw2.txt\")"
   ]
  }
 ],
 "metadata": {
  "anaconda-cloud": {},
  "kernelspec": {
   "display_name": "Python [default]",
   "language": "python",
   "name": "python3"
  },
  "language_info": {
   "codemirror_mode": {
    "name": "ipython",
    "version": 3
   },
   "file_extension": ".py",
   "mimetype": "text/x-python",
   "name": "python",
   "nbconvert_exporter": "python",
   "pygments_lexer": "ipython3",
   "version": "3.5.2"
  }
 },
 "nbformat": 4,
 "nbformat_minor": 1
}
