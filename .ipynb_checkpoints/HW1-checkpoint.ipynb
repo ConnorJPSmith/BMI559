{
 "cells": [
  {
   "cell_type": "markdown",
   "metadata": {},
   "source": [
    "'''\n",
    "Connor Smith\n",
    "BMI559\n",
    "HW1 - Late\n",
    "'''"
   ]
  },
  {
   "cell_type": "code",
   "execution_count": 2,
   "metadata": {
    "collapsed": true
   },
   "outputs": [],
   "source": [
    "import csv\n",
    "import pandas\n",
    "import re"
   ]
  },
  {
   "cell_type": "code",
   "execution_count": 3,
   "metadata": {
    "collapsed": true
   },
   "outputs": [],
   "source": [
    "# import file\n",
    "vcf_file = open(\"PTEN.vcf\",\"r\")\n",
    "\n",
    "vcf_lines = vcf_file.readlines()\n",
    "#strip lines\n",
    "vcf_clean = [line.rstrip() for line in vcf_lines]\n",
    "\n",
    "vcf_file.close()"
   ]
  },
  {
   "cell_type": "markdown",
   "metadata": {},
   "source": [
    "Create Data Dictionary for INFO things"
   ]
  },
  {
   "cell_type": "code",
   "execution_count": 24,
   "metadata": {},
   "outputs": [
    {
     "name": "stdout",
     "output_type": "stream",
     "text": [
      "{'CIEND': ['Confidence interval around END for imprecise variants', 'Integer', ''], 'CIPOS': ['Confidence interval around POS for imprecise variants', 'Integer', ''], 'CS': ['Source call set.', 'String', ''], 'END': ['End coordinate of this variant', 'Integer', ''], 'IMPRECISE': ['Imprecise structural variation', 'Flag', ''], 'MC': ['Merged calls.', 'String', ''], 'MEINFO': ['Mobile element info of the form NAME', 'String', ''], 'MEND': ['Mitochondrial end coordinate of inserted sequence', 'Integer', ''], 'MLEN': ['Estimated length of mitochondrial insert', 'Integer', ''], 'MSTART': ['Mitochondrial start coordinate of inserted sequence', 'Integer', ''], 'SVLEN': ['SV length. It is only calculated for structural variation MEIs. For other types of SVs; one may calculate the SV length by INFO:END-START+1', 'Integer', ''], 'SVTYPE': ['Type of structural variant', 'String', ''], 'TSD': ['Precise Target Site Duplication for bases', 'String', ''], 'AC': ['Total number of alternate alleles in called genotypes', 'Integer', ''], 'AF': ['Estimated allele frequency in the range (0', 'Float', ''], 'NS': ['Number of samples with data', 'Integer', ''], 'AN': ['Total number of alleles in called genotypes', 'Integer', ''], 'EAS_AF': ['Allele frequency in the EAS populations calculated from AC and AN', 'Float', ''], 'EUR_AF': ['Allele frequency in the EUR populations calculated from AC and AN', 'Float', ''], 'AFR_AF': ['Allele frequency in the AFR populations calculated from AC and AN', 'Float', ''], 'AMR_AF': ['Allele frequency in the AMR populations calculated from AC and AN', 'Float', ''], 'SAS_AF': ['Allele frequency in the SAS populations calculated from AC and AN', 'Float', ''], 'DP': ['Total read depth; only low coverage data were counted towards the DP', 'Integer', ''], 'AA': ['Ancestral Allele. Format: AA|REF|ALT|IndelType. AA: Ancestral allele', 'String', ''], 'VT': ['indicates what type of variant the line represents', 'String', ''], 'EX_TARGET': ['indicates whether a variant is within the exon pull down target boundaries', 'Flag', ''], 'MULTI_ALLELIC': ['indicates whether a site is multi-allelic', 'Flag', '']}\n"
     ]
    }
   ],
   "source": [
    "#create dictionary for data dict\n",
    "\n",
    "data_dict = {}\n",
    "\n",
    "# check for ##INFO lines\n",
    "for line in vcf_clean:\n",
    "    match = re.search(r\"##INFO\",line)\n",
    "    if match:\n",
    "        #print(line)\n",
    "        #print(re.search(r\"<(.*)>\",line).group(1))\n",
    "        attribs = re.search(r\"<(.*)>\",line).group(1).split(',')\n",
    "        info_id = attribs[0][3:]\n",
    "        info_def = attribs[3][12:].replace('\"','')\n",
    "        info_type = attribs[2][5:]\n",
    "        # range to be added later\n",
    "        info_range = ''\n",
    "        data_dict[info_id] = [info_def,info_type,info_range]\n",
    "print(data_dict)"
   ]
  },
  {
   "cell_type": "markdown",
   "metadata": {},
   "source": [
    "Parse the data into a table"
   ]
  },
  {
   "cell_type": "code",
   "execution_count": 80,
   "metadata": {},
   "outputs": [],
   "source": [
    "# ignore the specific mutation columns\n",
    "data_raw = [line.split('\\t') for line in vcf_clean[252:]]"
   ]
  },
  {
   "cell_type": "code",
   "execution_count": 118,
   "metadata": {},
   "outputs": [],
   "source": [
    "list_of_dict = []\n",
    "for row in data_raw[1:]:\n",
    "    # extract info variables\n",
    "    info = row[7]\n",
    "    info_dict = {}\n",
    "    for item in info.split(';'):\n",
    "        match = re.search(r\"=\",item)\n",
    "        if match:\n",
    "            info_dict[item.split(\"=\")[0]] = item.split(\"=\")[1]\n",
    "        else:\n",
    "            # deals with FLAG columns\n",
    "            info_dict[item] = 1\n",
    "    #info_split = {item.split('=')[0]: item.split('=')[1] for item in info.split(\";\") if item.split('=')[0] != 'EX_TARGET'}\n",
    "    row_dict = {'#CHROM':row[0],\n",
    "               'POS':row[1],\n",
    "               'ID':row[2],\n",
    "               'REF':row[3],\n",
    "               'ALT':row[4],\n",
    "               'QUAL':row[5],\n",
    "               'FILTER':row[6],\n",
    "               'INFO':row[7],\n",
    "               'FORMAT':row[8]}\n",
    "    row_dict.update(info_dict)\n",
    "    list_of_dict.append(row_dict)\n",
    "PTEN_data = pandas.DataFrame(list_of_dict)"
   ]
  },
  {
   "cell_type": "code",
   "execution_count": 117,
   "metadata": {},
   "outputs": [
    {
     "name": "stdout",
     "output_type": "stream",
     "text": [
      "Number of SNPs: 2710\n"
     ]
    }
   ],
   "source": [
    "print('Number of SNPs: '+str(len(PTEN_data.loc[PTEN_data['VT'] == 'SNP'])))"
   ]
  },
  {
   "cell_type": "code",
   "execution_count": 145,
   "metadata": {},
   "outputs": [
    {
     "data": {
      "text/plain": [
       "{'AA': ['Ancestral Allele. Format: AA|REF|ALT|IndelType. AA: Ancestral allele',\n",
       "  'String',\n",
       "  '50 unique values'],\n",
       " 'AC': ['Total number of alternate alleles in called genotypes',\n",
       "  'Integer',\n",
       "  '197 unique values'],\n",
       " 'AF': ['Estimated allele frequency in the range (0',\n",
       "  'Float',\n",
       "  '197 unique values'],\n",
       " 'AFR_AF': ['Allele frequency in the AFR populations calculated from AC and AN',\n",
       "  'Float',\n",
       "  '129 unique values'],\n",
       " 'AMR_AF': ['Allele frequency in the AMR populations calculated from AC and AN',\n",
       "  'Float',\n",
       "  '73 unique values'],\n",
       " 'AN': ['Total number of alleles in called genotypes',\n",
       "  'Integer',\n",
       "  '1 unique values'],\n",
       " 'CIEND': ['Confidence interval around END for imprecise variants',\n",
       "  'Integer',\n",
       "  '3 unique values'],\n",
       " 'CIPOS': ['Confidence interval around POS for imprecise variants',\n",
       "  'Integer',\n",
       "  '3 unique values'],\n",
       " 'CS': ['Source call set.', 'String', '4 unique values'],\n",
       " 'DP': ['Total read depth; only low coverage data were counted towards the DP',\n",
       "  'Integer',\n",
       "  '2441 unique values'],\n",
       " 'EAS_AF': ['Allele frequency in the EAS populations calculated from AC and AN',\n",
       "  'Float',\n",
       "  '80 unique values'],\n",
       " 'END': ['End coordinate of this variant', 'Integer', '3 unique values'],\n",
       " 'EUR_AF': ['Allele frequency in the EUR populations calculated from AC and AN',\n",
       "  'Float',\n",
       "  '88 unique values'],\n",
       " 'EX_TARGET': ['indicates whether a variant is within the exon pull down target boundaries',\n",
       "  'Flag',\n",
       "  '2 unique values'],\n",
       " 'IMPRECISE': ['Imprecise structural variation', 'Flag', 'No Values Found'],\n",
       " 'MC': ['Merged calls.', 'String', 'No Values Found'],\n",
       " 'MEINFO': ['Mobile element info of the form NAME',\n",
       "  'String',\n",
       "  '2 unique values'],\n",
       " 'MEND': ['Mitochondrial end coordinate of inserted sequence',\n",
       "  'Integer',\n",
       "  'No Values Found'],\n",
       " 'MLEN': ['Estimated length of mitochondrial insert',\n",
       "  'Integer',\n",
       "  'No Values Found'],\n",
       " 'MSTART': ['Mitochondrial start coordinate of inserted sequence',\n",
       "  'Integer',\n",
       "  'No Values Found'],\n",
       " 'MULTI_ALLELIC': ['indicates whether a site is multi-allelic',\n",
       "  'Flag',\n",
       "  '2 unique values'],\n",
       " 'NS': ['Number of samples with data', 'Integer', '1 unique values'],\n",
       " 'SAS_AF': ['Allele frequency in the SAS populations calculated from AC and AN',\n",
       "  'Float',\n",
       "  '77 unique values'],\n",
       " 'SVLEN': ['SV length. It is only calculated for structural variation MEIs. For other types of SVs; one may calculate the SV length by INFO:END-START+1',\n",
       "  'Integer',\n",
       "  '2 unique values'],\n",
       " 'SVTYPE': ['Type of structural variant', 'String', '4 unique values'],\n",
       " 'TSD': ['Precise Target Site Duplication for bases',\n",
       "  'String',\n",
       "  '2 unique values'],\n",
       " 'VT': ['indicates what type of variant the line represents',\n",
       "  'String',\n",
       "  '4 unique values']}"
      ]
     },
     "execution_count": 145,
     "metadata": {},
     "output_type": "execute_result"
    }
   ],
   "source": [
    "# Set range/unique values for each column\n",
    "for key, item in data_dict.items():\n",
    "    if key in PTEN_data.columns:\n",
    "        item[2] = str(len(PTEN_data[key].unique()))+' unique values'\n",
    "    else:\n",
    "        item[2] = 'No Values Found'"
   ]
  },
  {
   "cell_type": "code",
   "execution_count": 146,
   "metadata": {},
   "outputs": [],
   "source": [
    "# Print Dictionary\n",
    "dict_file = open('data_dictionary_PTEN.txt','w')\n",
    "for key,item in data_dict.items():\n",
    "    dict_file.write('TERM\\tDEFINITION\\tTYPE\\tRANGE')\n",
    "    dict_file.write(key+'\\t'+item[0]+'\\t'+item[1]+'\\t'+item[2])\n",
    "dict_file.close()"
   ]
  }
 ],
 "metadata": {
  "kernelspec": {
   "display_name": "Python 3",
   "language": "python",
   "name": "python3"
  },
  "language_info": {
   "codemirror_mode": {
    "name": "ipython",
    "version": 3
   },
   "file_extension": ".py",
   "mimetype": "text/x-python",
   "name": "python",
   "nbconvert_exporter": "python",
   "pygments_lexer": "ipython3",
   "version": "3.6.1"
  }
 },
 "nbformat": 4,
 "nbformat_minor": 2
}
